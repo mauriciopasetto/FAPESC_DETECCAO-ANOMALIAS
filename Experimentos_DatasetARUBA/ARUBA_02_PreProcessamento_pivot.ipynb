{
 "cells": [
  {
   "cell_type": "markdown",
   "id": "ae56b0dc",
   "metadata": {},
   "source": [
    "# ARUBA - PRE-PROCESSAMENTO"
   ]
  },
  {
   "cell_type": "code",
   "execution_count": 20,
   "id": "c502ae4d",
   "metadata": {},
   "outputs": [],
   "source": [
    "##importando bibliotecas\n",
    "import pandas as pd\n",
    "import matplotlib.pyplot as plt\n",
    "import numpy as np\n",
    "import pandas as pd\n",
    "import seaborn as sns\n",
    "from datetime import datetime"
   ]
  },
  {
   "cell_type": "raw",
   "id": "d79449c3",
   "metadata": {},
   "source": [
    "Bed_to_Toilet = 4\n",
    "Eating = 14\n",
    "Meal_Preparation = 18\n",
    "Relax = 9\n",
    "Sleeping = 3"
   ]
  },
  {
   "cell_type": "markdown",
   "id": "8fef74c1",
   "metadata": {},
   "source": [
    "# Pivoteamento"
   ]
  },
  {
   "cell_type": "code",
   "execution_count": 21,
   "id": "1c8c7408",
   "metadata": {
    "scrolled": false
   },
   "outputs": [
    {
     "name": "stdout",
     "output_type": "stream",
     "text": [
      "(1005, 8)\n"
     ]
    },
    {
     "data": {
      "text/html": [
       "<div>\n",
       "<style scoped>\n",
       "    .dataframe tbody tr th:only-of-type {\n",
       "        vertical-align: middle;\n",
       "    }\n",
       "\n",
       "    .dataframe tbody tr th {\n",
       "        vertical-align: top;\n",
       "    }\n",
       "\n",
       "    .dataframe thead th {\n",
       "        text-align: right;\n",
       "    }\n",
       "</style>\n",
       "<table border=\"1\" class=\"dataframe\">\n",
       "  <thead>\n",
       "    <tr style=\"text-align: right;\">\n",
       "      <th></th>\n",
       "      <th>dia</th>\n",
       "      <th>dia_semana</th>\n",
       "      <th>fim_semana</th>\n",
       "      <th>atividade</th>\n",
       "      <th>local</th>\n",
       "      <th>duracao</th>\n",
       "      <th>frequencia</th>\n",
       "      <th>duracao/frequencia</th>\n",
       "    </tr>\n",
       "  </thead>\n",
       "  <tbody>\n",
       "    <tr>\n",
       "      <th>0</th>\n",
       "      <td>1</td>\n",
       "      <td>3</td>\n",
       "      <td>0</td>\n",
       "      <td>Bed_to_Toilet</td>\n",
       "      <td>4</td>\n",
       "      <td>158</td>\n",
       "      <td>1</td>\n",
       "      <td>158</td>\n",
       "    </tr>\n",
       "    <tr>\n",
       "      <th>1</th>\n",
       "      <td>1</td>\n",
       "      <td>3</td>\n",
       "      <td>0</td>\n",
       "      <td>Eating</td>\n",
       "      <td>14</td>\n",
       "      <td>626</td>\n",
       "      <td>4</td>\n",
       "      <td>156</td>\n",
       "    </tr>\n",
       "    <tr>\n",
       "      <th>2</th>\n",
       "      <td>1</td>\n",
       "      <td>3</td>\n",
       "      <td>0</td>\n",
       "      <td>Meal_Preparation</td>\n",
       "      <td>18</td>\n",
       "      <td>4037</td>\n",
       "      <td>9</td>\n",
       "      <td>448</td>\n",
       "    </tr>\n",
       "    <tr>\n",
       "      <th>3</th>\n",
       "      <td>1</td>\n",
       "      <td>3</td>\n",
       "      <td>0</td>\n",
       "      <td>Relax</td>\n",
       "      <td>9</td>\n",
       "      <td>2262</td>\n",
       "      <td>3</td>\n",
       "      <td>754</td>\n",
       "    </tr>\n",
       "    <tr>\n",
       "      <th>4</th>\n",
       "      <td>1</td>\n",
       "      <td>3</td>\n",
       "      <td>0</td>\n",
       "      <td>Relax</td>\n",
       "      <td>10</td>\n",
       "      <td>1578</td>\n",
       "      <td>2</td>\n",
       "      <td>789</td>\n",
       "    </tr>\n",
       "  </tbody>\n",
       "</table>\n",
       "</div>"
      ],
      "text/plain": [
       "   dia  dia_semana  fim_semana         atividade  local  duracao  frequencia  \\\n",
       "0    1           3           0     Bed_to_Toilet      4      158           1   \n",
       "1    1           3           0            Eating     14      626           4   \n",
       "2    1           3           0  Meal_Preparation     18     4037           9   \n",
       "3    1           3           0             Relax      9     2262           3   \n",
       "4    1           3           0             Relax     10     1578           2   \n",
       "\n",
       "   duracao/frequencia  \n",
       "0                 158  \n",
       "1                 156  \n",
       "2                 448  \n",
       "3                 754  \n",
       "4                 789  "
      ]
     },
     "execution_count": 21,
     "metadata": {},
     "output_type": "execute_result"
    }
   ],
   "source": [
    "## importando dataset outputP1_pp2.csv\n",
    "df = pd.read_csv('datasetaruba/pp2/aruba_atividades_pp2.CSV',delimiter=';',decimal=',',thousands=\".\",encoding='ANSI')\n",
    "print(df.shape)\n",
    "df.head()"
   ]
  },
  {
   "cell_type": "code",
   "execution_count": null,
   "id": "078f3a4d",
   "metadata": {},
   "outputs": [],
   "source": []
  },
  {
   "cell_type": "markdown",
   "id": "aeeaffbb",
   "metadata": {},
   "source": [
    "# aruba - Pré processamento C - Pivoteamento "
   ]
  },
  {
   "cell_type": "markdown",
   "id": "73e16328",
   "metadata": {},
   "source": [
    "##  Pivoteamento  dia e nome da atividade e FREQUENCIA"
   ]
  },
  {
   "cell_type": "code",
   "execution_count": 27,
   "id": "985a37e4",
   "metadata": {},
   "outputs": [
    {
     "name": "stdout",
     "output_type": "stream",
     "text": [
      "(84, 8)\n"
     ]
    },
    {
     "data": {
      "text/html": [
       "<div>\n",
       "<style scoped>\n",
       "    .dataframe tbody tr th:only-of-type {\n",
       "        vertical-align: middle;\n",
       "    }\n",
       "\n",
       "    .dataframe tbody tr th {\n",
       "        vertical-align: top;\n",
       "    }\n",
       "\n",
       "    .dataframe thead th {\n",
       "        text-align: right;\n",
       "    }\n",
       "</style>\n",
       "<table border=\"1\" class=\"dataframe\">\n",
       "  <thead>\n",
       "    <tr style=\"text-align: right;\">\n",
       "      <th>atividade</th>\n",
       "      <th>dia</th>\n",
       "      <th>dia_semana</th>\n",
       "      <th>fim_semana</th>\n",
       "      <th>BedToToilet</th>\n",
       "      <th>Eating</th>\n",
       "      <th>MealPreparation</th>\n",
       "      <th>Relax</th>\n",
       "      <th>Sleeping</th>\n",
       "    </tr>\n",
       "  </thead>\n",
       "  <tbody>\n",
       "    <tr>\n",
       "      <th>0</th>\n",
       "      <td>1</td>\n",
       "      <td>3</td>\n",
       "      <td>0</td>\n",
       "      <td>1.0</td>\n",
       "      <td>4.0</td>\n",
       "      <td>9.0</td>\n",
       "      <td>2.5</td>\n",
       "      <td>2.0</td>\n",
       "    </tr>\n",
       "    <tr>\n",
       "      <th>1</th>\n",
       "      <td>2</td>\n",
       "      <td>4</td>\n",
       "      <td>0</td>\n",
       "      <td>1.0</td>\n",
       "      <td>1.0</td>\n",
       "      <td>3.0</td>\n",
       "      <td>2.0</td>\n",
       "      <td>3.0</td>\n",
       "    </tr>\n",
       "    <tr>\n",
       "      <th>2</th>\n",
       "      <td>3</td>\n",
       "      <td>5</td>\n",
       "      <td>1</td>\n",
       "      <td>1.0</td>\n",
       "      <td>3.0</td>\n",
       "      <td>4.0</td>\n",
       "      <td>7.0</td>\n",
       "      <td>1.0</td>\n",
       "    </tr>\n",
       "    <tr>\n",
       "      <th>3</th>\n",
       "      <td>4</td>\n",
       "      <td>6</td>\n",
       "      <td>1</td>\n",
       "      <td>3.0</td>\n",
       "      <td>10.0</td>\n",
       "      <td>4.5</td>\n",
       "      <td>18.0</td>\n",
       "      <td>5.0</td>\n",
       "    </tr>\n",
       "    <tr>\n",
       "      <th>4</th>\n",
       "      <td>5</td>\n",
       "      <td>0</td>\n",
       "      <td>0</td>\n",
       "      <td>1.0</td>\n",
       "      <td>5.0</td>\n",
       "      <td>11.0</td>\n",
       "      <td>13.0</td>\n",
       "      <td>2.0</td>\n",
       "    </tr>\n",
       "  </tbody>\n",
       "</table>\n",
       "</div>"
      ],
      "text/plain": [
       "atividade  dia  dia_semana  fim_semana  BedToToilet  Eating  MealPreparation  \\\n",
       "0            1           3           0          1.0     4.0              9.0   \n",
       "1            2           4           0          1.0     1.0              3.0   \n",
       "2            3           5           1          1.0     3.0              4.0   \n",
       "3            4           6           1          3.0    10.0              4.5   \n",
       "4            5           0           0          1.0     5.0             11.0   \n",
       "\n",
       "atividade  Relax  Sleeping  \n",
       "0            2.5       2.0  \n",
       "1            2.0       3.0  \n",
       "2            7.0       1.0  \n",
       "3           18.0       5.0  \n",
       "4           13.0       2.0  "
      ]
     },
     "execution_count": 27,
     "metadata": {},
     "output_type": "execute_result"
    }
   ],
   "source": [
    "## pivotanto usando dia e nome da atividade e Frequencia\n",
    "dfpiv_frequencia = df.pivot_table(values = 'frequencia', \n",
    "                         index = ['dia','dia_semana','fim_semana'], \n",
    "                         columns = ['atividade'])\n",
    "dfpiv_frequencia = dfpiv_frequencia.dropna()\n",
    "dfpiv_frequencia = dfpiv_frequencia.reset_index()\n",
    "dfpiv_frequencia['dia'] = np.arange(len(dfpiv_frequencia))\n",
    "dfpiv_frequencia['dia'] = dfpiv_frequencia['dia'] +1\n",
    "print(dfpiv_frequencia.shape)\n",
    "dfpiv_frequencia.rename(columns = {'Bed_to_Toilet':'BedToToilet', 'Meal_Preparation':'MealPreparation'}, inplace = True)\n",
    "dfpiv_frequencia.head()"
   ]
  },
  {
   "cell_type": "code",
   "execution_count": 4,
   "id": "9cfbd967",
   "metadata": {},
   "outputs": [
    {
     "name": "stdout",
     "output_type": "stream",
     "text": [
      "Count of zeros in column  dia  is :  0\n",
      "Count of zeros in column  dia_semana  is :  19\n",
      "Count of zeros in column  fim_semana  is :  68\n",
      "Count of zeros in column  BedToToilet  is :  0\n",
      "Count of zeros in column  Eating  is :  0\n",
      "Count of zeros in column  MealPreparation  is :  0\n",
      "Count of zeros in column  Relax  is :  0\n",
      "Count of zeros in column  Sleeping  is :  0\n"
     ]
    }
   ],
   "source": [
    "for column_name in dfpiv_frequencia.columns:\n",
    "    column = dfpiv_frequencia[column_name]\n",
    "    # Get the count of Zeros in column \n",
    "    count = (column == 0).sum()\n",
    "    print('Count of zeros in column ', column_name, ' is : ', count)"
   ]
  },
  {
   "cell_type": "code",
   "execution_count": null,
   "id": "11f8321b",
   "metadata": {},
   "outputs": [],
   "source": []
  },
  {
   "cell_type": "markdown",
   "id": "781cad8e",
   "metadata": {},
   "source": [
    "##  Pivoteamento  dia e nome da atividade e DURACAO"
   ]
  },
  {
   "cell_type": "code",
   "execution_count": 5,
   "id": "22363e2c",
   "metadata": {},
   "outputs": [
    {
     "name": "stdout",
     "output_type": "stream",
     "text": [
      "(84, 8)\n"
     ]
    },
    {
     "data": {
      "text/html": [
       "<div>\n",
       "<style scoped>\n",
       "    .dataframe tbody tr th:only-of-type {\n",
       "        vertical-align: middle;\n",
       "    }\n",
       "\n",
       "    .dataframe tbody tr th {\n",
       "        vertical-align: top;\n",
       "    }\n",
       "\n",
       "    .dataframe thead th {\n",
       "        text-align: right;\n",
       "    }\n",
       "</style>\n",
       "<table border=\"1\" class=\"dataframe\">\n",
       "  <thead>\n",
       "    <tr style=\"text-align: right;\">\n",
       "      <th>atividade</th>\n",
       "      <th>dia</th>\n",
       "      <th>dia_semana</th>\n",
       "      <th>fim_semana</th>\n",
       "      <th>BedToToilet</th>\n",
       "      <th>Eating</th>\n",
       "      <th>MealPreparation</th>\n",
       "      <th>Relax</th>\n",
       "      <th>Sleeping</th>\n",
       "    </tr>\n",
       "  </thead>\n",
       "  <tbody>\n",
       "    <tr>\n",
       "      <th>0</th>\n",
       "      <td>1</td>\n",
       "      <td>3</td>\n",
       "      <td>0</td>\n",
       "      <td>158.0</td>\n",
       "      <td>626.0</td>\n",
       "      <td>4037.0</td>\n",
       "      <td>3840.0</td>\n",
       "      <td>28459.0</td>\n",
       "    </tr>\n",
       "    <tr>\n",
       "      <th>1</th>\n",
       "      <td>2</td>\n",
       "      <td>4</td>\n",
       "      <td>0</td>\n",
       "      <td>160.0</td>\n",
       "      <td>209.0</td>\n",
       "      <td>481.0</td>\n",
       "      <td>585.0</td>\n",
       "      <td>48019.0</td>\n",
       "    </tr>\n",
       "    <tr>\n",
       "      <th>2</th>\n",
       "      <td>3</td>\n",
       "      <td>5</td>\n",
       "      <td>1</td>\n",
       "      <td>189.0</td>\n",
       "      <td>1795.0</td>\n",
       "      <td>1289.0</td>\n",
       "      <td>12578.0</td>\n",
       "      <td>16215.0</td>\n",
       "    </tr>\n",
       "    <tr>\n",
       "      <th>3</th>\n",
       "      <td>4</td>\n",
       "      <td>6</td>\n",
       "      <td>1</td>\n",
       "      <td>348.0</td>\n",
       "      <td>4672.0</td>\n",
       "      <td>1898.0</td>\n",
       "      <td>28849.0</td>\n",
       "      <td>47460.0</td>\n",
       "    </tr>\n",
       "    <tr>\n",
       "      <th>4</th>\n",
       "      <td>5</td>\n",
       "      <td>0</td>\n",
       "      <td>0</td>\n",
       "      <td>184.0</td>\n",
       "      <td>3224.0</td>\n",
       "      <td>2118.0</td>\n",
       "      <td>25717.0</td>\n",
       "      <td>10732.0</td>\n",
       "    </tr>\n",
       "  </tbody>\n",
       "</table>\n",
       "</div>"
      ],
      "text/plain": [
       "atividade  dia  dia_semana  fim_semana  BedToToilet  Eating  MealPreparation  \\\n",
       "0            1           3           0        158.0   626.0           4037.0   \n",
       "1            2           4           0        160.0   209.0            481.0   \n",
       "2            3           5           1        189.0  1795.0           1289.0   \n",
       "3            4           6           1        348.0  4672.0           1898.0   \n",
       "4            5           0           0        184.0  3224.0           2118.0   \n",
       "\n",
       "atividade    Relax  Sleeping  \n",
       "0           3840.0   28459.0  \n",
       "1            585.0   48019.0  \n",
       "2          12578.0   16215.0  \n",
       "3          28849.0   47460.0  \n",
       "4          25717.0   10732.0  "
      ]
     },
     "execution_count": 5,
     "metadata": {},
     "output_type": "execute_result"
    }
   ],
   "source": [
    "## pivotanto usando dia e nome da atividade e DURACAO\n",
    "dfpiv_duracao = df.pivot_table(values = 'duracao', \n",
    "                         index = ['dia','dia_semana','fim_semana'], \n",
    "                         columns = 'atividade')\n",
    "dfpiv_duracao = dfpiv_duracao.dropna()\n",
    "dfpiv_duracao = dfpiv_duracao.reset_index()\n",
    "dfpiv_duracao['dia'] = np.arange(len(dfpiv_duracao))\n",
    "dfpiv_duracao['dia'] = dfpiv_duracao['dia'] +1\n",
    "dfpiv_duracao.rename(columns = {'Bed_to_Toilet':'BedToToilet', 'Meal_Preparation':'MealPreparation'}, inplace = True)\n",
    "print(dfpiv_duracao.shape)\n",
    "dfpiv_duracao.head()"
   ]
  },
  {
   "cell_type": "code",
   "execution_count": 6,
   "id": "6ac472f2",
   "metadata": {},
   "outputs": [
    {
     "name": "stdout",
     "output_type": "stream",
     "text": [
      "Count of zeros in column  dia  is :  0\n",
      "Count of zeros in column  dia_semana  is :  19\n",
      "Count of zeros in column  fim_semana  is :  68\n",
      "Count of zeros in column  BedToToilet  is :  0\n",
      "Count of zeros in column  Eating  is :  0\n",
      "Count of zeros in column  MealPreparation  is :  0\n",
      "Count of zeros in column  Relax  is :  0\n",
      "Count of zeros in column  Sleeping  is :  0\n"
     ]
    }
   ],
   "source": [
    "for column_name in dfpiv_duracao.columns:\n",
    "    column = dfpiv_duracao[column_name]\n",
    "    # Get the count of Zeros in column \n",
    "    count = (column == 0).sum()\n",
    "    print('Count of zeros in column ', column_name, ' is : ', count)"
   ]
  },
  {
   "cell_type": "code",
   "execution_count": null,
   "id": "dbe1ae35",
   "metadata": {},
   "outputs": [],
   "source": []
  },
  {
   "cell_type": "markdown",
   "id": "0f256fe8",
   "metadata": {},
   "source": [
    "##  Pivoteamento  dia e nome da atividade e DURACAO/FREQUENCIA"
   ]
  },
  {
   "cell_type": "code",
   "execution_count": 7,
   "id": "4861ce0a",
   "metadata": {
    "scrolled": true
   },
   "outputs": [
    {
     "name": "stdout",
     "output_type": "stream",
     "text": [
      "(84, 8)\n"
     ]
    },
    {
     "data": {
      "text/html": [
       "<div>\n",
       "<style scoped>\n",
       "    .dataframe tbody tr th:only-of-type {\n",
       "        vertical-align: middle;\n",
       "    }\n",
       "\n",
       "    .dataframe tbody tr th {\n",
       "        vertical-align: top;\n",
       "    }\n",
       "\n",
       "    .dataframe thead th {\n",
       "        text-align: right;\n",
       "    }\n",
       "</style>\n",
       "<table border=\"1\" class=\"dataframe\">\n",
       "  <thead>\n",
       "    <tr style=\"text-align: right;\">\n",
       "      <th>atividade</th>\n",
       "      <th>dia</th>\n",
       "      <th>dia_semana</th>\n",
       "      <th>fim_semana</th>\n",
       "      <th>BedToToilet</th>\n",
       "      <th>Eating</th>\n",
       "      <th>MealPreparation</th>\n",
       "      <th>Relax</th>\n",
       "      <th>Sleeping</th>\n",
       "    </tr>\n",
       "  </thead>\n",
       "  <tbody>\n",
       "    <tr>\n",
       "      <th>0</th>\n",
       "      <td>1</td>\n",
       "      <td>3</td>\n",
       "      <td>0</td>\n",
       "      <td>158.0</td>\n",
       "      <td>156.0</td>\n",
       "      <td>448.0</td>\n",
       "      <td>768.0</td>\n",
       "      <td>14229.0</td>\n",
       "    </tr>\n",
       "    <tr>\n",
       "      <th>1</th>\n",
       "      <td>2</td>\n",
       "      <td>4</td>\n",
       "      <td>0</td>\n",
       "      <td>160.0</td>\n",
       "      <td>209.0</td>\n",
       "      <td>160.0</td>\n",
       "      <td>292.0</td>\n",
       "      <td>16006.0</td>\n",
       "    </tr>\n",
       "    <tr>\n",
       "      <th>2</th>\n",
       "      <td>3</td>\n",
       "      <td>5</td>\n",
       "      <td>1</td>\n",
       "      <td>189.0</td>\n",
       "      <td>598.0</td>\n",
       "      <td>322.0</td>\n",
       "      <td>1796.0</td>\n",
       "      <td>16215.0</td>\n",
       "    </tr>\n",
       "    <tr>\n",
       "      <th>3</th>\n",
       "      <td>4</td>\n",
       "      <td>6</td>\n",
       "      <td>1</td>\n",
       "      <td>116.0</td>\n",
       "      <td>467.0</td>\n",
       "      <td>210.0</td>\n",
       "      <td>1602.0</td>\n",
       "      <td>9492.0</td>\n",
       "    </tr>\n",
       "    <tr>\n",
       "      <th>4</th>\n",
       "      <td>5</td>\n",
       "      <td>0</td>\n",
       "      <td>0</td>\n",
       "      <td>184.0</td>\n",
       "      <td>644.0</td>\n",
       "      <td>192.0</td>\n",
       "      <td>1978.0</td>\n",
       "      <td>5366.0</td>\n",
       "    </tr>\n",
       "  </tbody>\n",
       "</table>\n",
       "</div>"
      ],
      "text/plain": [
       "atividade  dia  dia_semana  fim_semana  BedToToilet  Eating  MealPreparation  \\\n",
       "0            1           3           0        158.0   156.0            448.0   \n",
       "1            2           4           0        160.0   209.0            160.0   \n",
       "2            3           5           1        189.0   598.0            322.0   \n",
       "3            4           6           1        116.0   467.0            210.0   \n",
       "4            5           0           0        184.0   644.0            192.0   \n",
       "\n",
       "atividade   Relax  Sleeping  \n",
       "0           768.0   14229.0  \n",
       "1           292.0   16006.0  \n",
       "2          1796.0   16215.0  \n",
       "3          1602.0    9492.0  \n",
       "4          1978.0    5366.0  "
      ]
     },
     "execution_count": 7,
     "metadata": {},
     "output_type": "execute_result"
    }
   ],
   "source": [
    "## pivotanto usando dia e nome da atividade e DURACAO\n",
    "dfpiv_dfreq = df.pivot_table(values = 'duracao/frequencia', \n",
    "                         index = ['dia','dia_semana','fim_semana'], \n",
    "                         columns = 'atividade')\n",
    "dfpiv_dfreq = dfpiv_dfreq.dropna()\n",
    "dfpiv_dfreq = dfpiv_dfreq.reset_index()\n",
    "dfpiv_dfreq['dia'] = np.arange(len(dfpiv_dfreq))\n",
    "dfpiv_dfreq['dia'] = dfpiv_dfreq['dia'] +1\n",
    "dfpiv_dfreq.rename(columns = {'Bed_to_Toilet':'BedToToilet', 'Meal_Preparation':'MealPreparation'}, inplace = True)\n",
    "print(dfpiv_dfreq.shape)\n",
    "dfpiv_dfreq.head()"
   ]
  },
  {
   "cell_type": "code",
   "execution_count": 8,
   "id": "5aa06518",
   "metadata": {
    "scrolled": true
   },
   "outputs": [
    {
     "name": "stdout",
     "output_type": "stream",
     "text": [
      "Count of zeros in column  dia  is :  0\n",
      "Count of zeros in column  dia_semana  is :  19\n",
      "Count of zeros in column  fim_semana  is :  68\n",
      "Count of zeros in column  BedToToilet  is :  0\n",
      "Count of zeros in column  Eating  is :  0\n",
      "Count of zeros in column  MealPreparation  is :  0\n",
      "Count of zeros in column  Relax  is :  0\n",
      "Count of zeros in column  Sleeping  is :  0\n"
     ]
    }
   ],
   "source": [
    "for column_name in dfpiv_dfreq.columns:\n",
    "    column = dfpiv_dfreq[column_name]\n",
    "    # Get the count of Zeros in column \n",
    "    count = (column == 0).sum()\n",
    "    print('Count of zeros in column ', column_name, ' is : ', count)"
   ]
  },
  {
   "cell_type": "code",
   "execution_count": null,
   "id": "d8aa9750",
   "metadata": {},
   "outputs": [],
   "source": []
  },
  {
   "cell_type": "code",
   "execution_count": 9,
   "id": "7c49b385",
   "metadata": {},
   "outputs": [],
   "source": [
    "#exportando os dataset\n",
    "dfpiv_frequencia.to_csv(r'datasetaruba/pp3/aruba-frequencia_pp3.csv', sep=';', index=False, decimal=',')"
   ]
  },
  {
   "cell_type": "code",
   "execution_count": 10,
   "id": "446bcd68",
   "metadata": {},
   "outputs": [],
   "source": [
    "#exportando os dataset\n",
    "dfpiv_duracao.to_csv(r'datasetaruba/pp3/aruba-duracao_pp3.csv', sep=';', index=False, decimal=',')"
   ]
  },
  {
   "cell_type": "code",
   "execution_count": 11,
   "id": "59aaac8b",
   "metadata": {},
   "outputs": [],
   "source": [
    "#exportando os dataset\n",
    "dfpiv_dfreq.to_csv(r'datasetaruba/pp3/aruba-dfreq_pp3.csv', sep=';', index=False, decimal=',')"
   ]
  },
  {
   "cell_type": "code",
   "execution_count": null,
   "id": "81002da0",
   "metadata": {},
   "outputs": [],
   "source": []
  }
 ],
 "metadata": {
  "kernelspec": {
   "display_name": "Python 3 (ipykernel)",
   "language": "python",
   "name": "python3"
  },
  "language_info": {
   "codemirror_mode": {
    "name": "ipython",
    "version": 3
   },
   "file_extension": ".py",
   "mimetype": "text/x-python",
   "name": "python",
   "nbconvert_exporter": "python",
   "pygments_lexer": "ipython3",
   "version": "3.9.13"
  }
 },
 "nbformat": 4,
 "nbformat_minor": 5
}
