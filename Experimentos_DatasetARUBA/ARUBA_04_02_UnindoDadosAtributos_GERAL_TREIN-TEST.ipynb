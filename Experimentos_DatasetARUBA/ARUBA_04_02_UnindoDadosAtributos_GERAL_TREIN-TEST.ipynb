{
 "cells": [
  {
   "cell_type": "markdown",
   "id": "ae56b0dc",
   "metadata": {},
   "source": [
    "# PPD dos dados para treinamento, validação e teste"
   ]
  },
  {
   "cell_type": "code",
   "execution_count": 1,
   "id": "c502ae4d",
   "metadata": {},
   "outputs": [],
   "source": [
    "##importando bibliotecas\n",
    "import pandas as pd\n",
    "import matplotlib.pyplot as plt\n",
    "import numpy as np\n",
    "import pandas as pd\n",
    "import seaborn as sns\n",
    "import random\n",
    "from numpy import median, mean\n",
    "from sklearn import svm\n",
    "from sklearn.preprocessing import StandardScaler\n",
    "from sklearn.neighbors import LocalOutlierFactor"
   ]
  },
  {
   "cell_type": "markdown",
   "id": "50658c9f",
   "metadata": {},
   "source": [
    "* Outlier =  1 normal\n",
    "* Outlier = -1 anormal"
   ]
  },
  {
   "cell_type": "code",
   "execution_count": 2,
   "id": "57d51680",
   "metadata": {},
   "outputs": [],
   "source": [
    "#DADOS DE TESTE UNIFACADOS POR FAIXAS"
   ]
  },
  {
   "cell_type": "code",
   "execution_count": 3,
   "id": "aded7028",
   "metadata": {},
   "outputs": [
    {
     "name": "stdout",
     "output_type": "stream",
     "text": [
      "(28, 15)\n",
      "(28, 15)\n",
      "(28, 15)\n",
      "(28, 45)\n",
      "(28, 35)\n"
     ]
    },
    {
     "data": {
      "text/plain": [
       "Index(['dia', 'dia_semana', 'fim_semana', 'BedToToilet_freq', 'Eating_freq',\n",
       "       'MealPreparation_freq', 'Relax_freq', 'Sleeping_freq',\n",
       "       'var_BedToToilet_freq', 'var_Eating_freq', 'var_MealPreparation_freq',\n",
       "       'var_Relax_freq', 'var_Sleeping_freq', 'BedToToilet_dur', 'Eating_dur',\n",
       "       'MealPreparation_dur', 'Relax_dur', 'Sleeping_dur',\n",
       "       'var_BedToToilet_dur', 'var_Eating_dur', 'var_MealPreparation_dur',\n",
       "       'var_Relax_dur', 'var_Sleeping_dur', 'BedToToilet_dfreq',\n",
       "       'Eating_dfreq', 'MealPreparation_dfreq', 'Relax_dfreq',\n",
       "       'Sleeping_dfreq', 'var_BedToToilet_dfreq', 'var_Eating_dfreq',\n",
       "       'var_MealPreparation_dfreq', 'var_Relax_dfreq', 'var_Sleeping_dfreq',\n",
       "       'outlier', 'variacao'],\n",
       "      dtype='object')"
      ]
     },
     "execution_count": 3,
     "metadata": {},
     "output_type": "execute_result"
    }
   ],
   "source": [
    "df_freq_test2035 = pd.read_csv('datasetaruba/pp4/aruba-freq-var20-35-test28.csv',delimiter=';',decimal=',',thousands=\".\",encoding='ANSI')\n",
    "df_freq_test2035 = df_freq_test2035.add_suffix('_freq')\n",
    "print(df_freq_test2035.shape)\n",
    "df_freq_test2035.head()\n",
    "\n",
    "df_dur_test2035 = pd.read_csv('datasetaruba/pp4/aruba-dur-var20-35-test28.csv',delimiter=';',decimal=',',thousands=\".\",encoding='ANSI')\n",
    "df_dur_test2035 = df_dur_test2035.add_suffix('_dur')\n",
    "print(df_dur_test2035.shape)\n",
    "df_dur_test2035.head()\n",
    "\n",
    "df_dfreq_test2035 = pd.read_csv('datasetaruba/pp4/aruba-dfreq-var20-35-test28.csv',delimiter=';',decimal=',',thousands=\".\",encoding='ANSI')\n",
    "df_dfreq_test2035 = df_dfreq_test2035.add_suffix('_dfreq')\n",
    "print(df_dfreq_test2035.shape)\n",
    "df_dfreq_test2035.head()\n",
    "\n",
    "#unindo dataframes\n",
    "df_test2035 = pd.concat([df_freq_test2035, df_dur_test2035, df_dfreq_test2035], axis=1)\n",
    "print(df_test2035.shape)\n",
    "df_test2035.head()\n",
    "\n",
    "#eliminado colunas duplicdas\n",
    "df_test2035.drop(['dia_dur','dia_dfreq','dia_semana_dur','dia_semana_dfreq',\n",
    "                  'fim_semana_dur','fim_semana_dfreq','outlier_freq','outlier_dur',\n",
    "                  'variacao_freq', 'variacao_dur'], axis=1, inplace=True)\n",
    "#renomeando colunas\n",
    "df_test2035.rename(columns = {'dia_freq':'dia', 'dia_semana_freq':'dia_semana', 'fim_semana_freq':'fim_semana',\n",
    "                              'outlier_dfreq':'outlier','variacao_dfreq':'variacao' }, inplace = True)\n",
    "print(df_test2035.shape)\n",
    "df_test2035.columns"
   ]
  },
  {
   "cell_type": "code",
   "execution_count": 4,
   "id": "8260f35b",
   "metadata": {},
   "outputs": [
    {
     "name": "stdout",
     "output_type": "stream",
     "text": [
      "(28, 15)\n",
      "(28, 15)\n",
      "(28, 15)\n",
      "(28, 45)\n",
      "(28, 35)\n"
     ]
    },
    {
     "data": {
      "text/plain": [
       "Index(['dia', 'dia_semana', 'fim_semana', 'BedToToilet_freq', 'Eating_freq',\n",
       "       'MealPreparation_freq', 'Relax_freq', 'Sleeping_freq',\n",
       "       'var_BedToToilet_freq', 'var_Eating_freq', 'var_MealPreparation_freq',\n",
       "       'var_Relax_freq', 'var_Sleeping_freq', 'BedToToilet_dur', 'Eating_dur',\n",
       "       'MealPreparation_dur', 'Relax_dur', 'Sleeping_dur',\n",
       "       'var_BedToToilet_dur', 'var_Eating_dur', 'var_MealPreparation_dur',\n",
       "       'var_Relax_dur', 'var_Sleeping_dur', 'BedToToilet_dfreq',\n",
       "       'Eating_dfreq', 'MealPreparation_dfreq', 'Relax_dfreq',\n",
       "       'Sleeping_dfreq', 'var_BedToToilet_dfreq', 'var_Eating_dfreq',\n",
       "       'var_MealPreparation_dfreq', 'var_Relax_dfreq', 'var_Sleeping_dfreq',\n",
       "       'outlier', 'variacao'],\n",
       "      dtype='object')"
      ]
     },
     "execution_count": 4,
     "metadata": {},
     "output_type": "execute_result"
    }
   ],
   "source": [
    "df_freq_test4055 = pd.read_csv('datasetaruba/pp4/aruba-freq-var40-55-test28.csv',delimiter=';',decimal=',',thousands=\".\",encoding='ANSI')\n",
    "df_freq_test4055 = df_freq_test4055.add_suffix('_freq')\n",
    "print(df_freq_test4055.shape)\n",
    "df_freq_test4055.head()\n",
    "\n",
    "df_dur_test4055 = pd.read_csv('datasetaruba/pp4/aruba-dur-var40-55-test28.csv',delimiter=';',decimal=',',thousands=\".\",encoding='ANSI')\n",
    "df_dur_test4055 = df_dur_test4055.add_suffix('_dur')\n",
    "print(df_dur_test4055.shape)\n",
    "df_dur_test4055.head()\n",
    "\n",
    "df_dfreq_test4055 = pd.read_csv('datasetaruba/pp4/aruba-dfreq-var40-55-test28.csv',delimiter=';',decimal=',',thousands=\".\",encoding='ANSI')\n",
    "df_dfreq_test4055 = df_dfreq_test4055.add_suffix('_dfreq')\n",
    "print(df_dfreq_test4055.shape)\n",
    "df_dfreq_test4055.head()\n",
    "\n",
    "#unindo dataframes\n",
    "df_test4055 = pd.concat([df_freq_test4055, df_dur_test4055, df_dfreq_test4055], axis=1)\n",
    "print(df_test4055.shape)\n",
    "df_test4055.head()\n",
    "\n",
    "#eliminado colunas duplicdas\n",
    "df_test4055.drop(['dia_dur','dia_dfreq','dia_semana_dur','dia_semana_dfreq',\n",
    "                  'fim_semana_dur','fim_semana_dfreq','outlier_freq','outlier_dur',\n",
    "                  'variacao_freq', 'variacao_dur'], axis=1, inplace=True)\n",
    "#renomeando colunas\n",
    "df_test4055.rename(columns = {'dia_freq':'dia', 'dia_semana_freq':'dia_semana', 'fim_semana_freq':'fim_semana',\n",
    "                              'outlier_dfreq':'outlier','variacao_dfreq':'variacao' }, inplace = True)\n",
    "print(df_test4055.shape)\n",
    "df_test4055.columns"
   ]
  },
  {
   "cell_type": "code",
   "execution_count": 5,
   "id": "6246e883",
   "metadata": {},
   "outputs": [
    {
     "name": "stdout",
     "output_type": "stream",
     "text": [
      "(28, 15)\n",
      "(28, 15)\n",
      "(28, 15)\n",
      "(28, 45)\n",
      "(28, 35)\n"
     ]
    },
    {
     "data": {
      "text/plain": [
       "Index(['dia', 'dia_semana', 'fim_semana', 'BedToToilet_freq', 'Eating_freq',\n",
       "       'MealPreparation_freq', 'Relax_freq', 'Sleeping_freq',\n",
       "       'var_BedToToilet_freq', 'var_Eating_freq', 'var_MealPreparation_freq',\n",
       "       'var_Relax_freq', 'var_Sleeping_freq', 'BedToToilet_dur', 'Eating_dur',\n",
       "       'MealPreparation_dur', 'Relax_dur', 'Sleeping_dur',\n",
       "       'var_BedToToilet_dur', 'var_Eating_dur', 'var_MealPreparation_dur',\n",
       "       'var_Relax_dur', 'var_Sleeping_dur', 'BedToToilet_dfreq',\n",
       "       'Eating_dfreq', 'MealPreparation_dfreq', 'Relax_dfreq',\n",
       "       'Sleeping_dfreq', 'var_BedToToilet_dfreq', 'var_Eating_dfreq',\n",
       "       'var_MealPreparation_dfreq', 'var_Relax_dfreq', 'var_Sleeping_dfreq',\n",
       "       'outlier', 'variacao'],\n",
       "      dtype='object')"
      ]
     },
     "execution_count": 5,
     "metadata": {},
     "output_type": "execute_result"
    }
   ],
   "source": [
    "df_freq_test6075 = pd.read_csv('datasetaruba/pp4/aruba-freq-var60-75-test28.csv',delimiter=';',decimal=',',thousands=\".\",encoding='ANSI')\n",
    "df_freq_test6075 = df_freq_test6075.add_suffix('_freq')\n",
    "print(df_freq_test6075.shape)\n",
    "df_freq_test6075.head()\n",
    "\n",
    "df_dur_test6075 = pd.read_csv('datasetaruba/pp4/aruba-dur-var60-75-test28.csv',delimiter=';',decimal=',',thousands=\".\",encoding='ANSI')\n",
    "df_dur_test6075 = df_dur_test6075.add_suffix('_dur')\n",
    "print(df_dur_test6075.shape)\n",
    "df_dur_test6075.head()\n",
    "\n",
    "df_dfreq_test6075 = pd.read_csv('datasetaruba/pp4/aruba-dfreq-var60-75-test28.csv',delimiter=';',decimal=',',thousands=\".\",encoding='ANSI')\n",
    "df_dfreq_test6075 = df_dfreq_test6075.add_suffix('_dfreq')\n",
    "print(df_dfreq_test6075.shape)\n",
    "df_dfreq_test6075.head()\n",
    "\n",
    "#unindo dataframes\n",
    "df_test6075 = pd.concat([df_freq_test6075, df_dur_test6075, df_dfreq_test6075], axis=1)\n",
    "print(df_test6075.shape)\n",
    "df_test6075.head()\n",
    "\n",
    "#eliminado colunas duplicdas\n",
    "df_test6075.drop(['dia_dur','dia_dfreq','dia_semana_dur','dia_semana_dfreq',\n",
    "                  'fim_semana_dur','fim_semana_dfreq','outlier_freq','outlier_dur',\n",
    "                  'variacao_freq', 'variacao_dur'], axis=1, inplace=True)\n",
    "#renomeando colunas\n",
    "df_test6075.rename(columns = {'dia_freq':'dia', 'dia_semana_freq':'dia_semana', 'fim_semana_freq':'fim_semana',\n",
    "                              'outlier_dfreq':'outlier','variacao_dfreq':'variacao' }, inplace = True)\n",
    "print(df_test6075.shape)\n",
    "df_test6075.columns"
   ]
  },
  {
   "cell_type": "code",
   "execution_count": 6,
   "id": "853ce4d5",
   "metadata": {},
   "outputs": [
    {
     "name": "stdout",
     "output_type": "stream",
     "text": [
      "(28, 15)\n",
      "(28, 15)\n",
      "(28, 15)\n",
      "(28, 45)\n",
      "(28, 35)\n"
     ]
    },
    {
     "data": {
      "text/plain": [
       "Index(['dia', 'dia_semana', 'fim_semana', 'BedToToilet_freq', 'Eating_freq',\n",
       "       'MealPreparation_freq', 'Relax_freq', 'Sleeping_freq',\n",
       "       'var_BedToToilet_freq', 'var_Eating_freq', 'var_MealPreparation_freq',\n",
       "       'var_Relax_freq', 'var_Sleeping_freq', 'BedToToilet_dur', 'Eating_dur',\n",
       "       'MealPreparation_dur', 'Relax_dur', 'Sleeping_dur',\n",
       "       'var_BedToToilet_dur', 'var_Eating_dur', 'var_MealPreparation_dur',\n",
       "       'var_Relax_dur', 'var_Sleeping_dur', 'BedToToilet_dfreq',\n",
       "       'Eating_dfreq', 'MealPreparation_dfreq', 'Relax_dfreq',\n",
       "       'Sleeping_dfreq', 'var_BedToToilet_dfreq', 'var_Eating_dfreq',\n",
       "       'var_MealPreparation_dfreq', 'var_Relax_dfreq', 'var_Sleeping_dfreq',\n",
       "       'outlier', 'variacao'],\n",
       "      dtype='object')"
      ]
     },
     "execution_count": 6,
     "metadata": {},
     "output_type": "execute_result"
    }
   ],
   "source": [
    "df_freq_test8095 = pd.read_csv('datasetaruba/pp4/aruba-freq-var60-75-test28.csv',delimiter=';',decimal=',',thousands=\".\",encoding='ANSI')\n",
    "df_freq_test8095 = df_freq_test8095.add_suffix('_freq')\n",
    "print(df_freq_test8095.shape)\n",
    "df_freq_test8095.head()\n",
    "\n",
    "df_dur_test8095 = pd.read_csv('datasetaruba/pp4/aruba-dur-var60-75-test28.csv',delimiter=';',decimal=',',thousands=\".\",encoding='ANSI')\n",
    "df_dur_test8095 = df_dur_test8095.add_suffix('_dur')\n",
    "print(df_dur_test8095.shape)\n",
    "df_dur_test8095.head()\n",
    "\n",
    "df_dfreq_test8095 = pd.read_csv('datasetaruba/pp4/aruba-dfreq-var60-75-test28.csv',delimiter=';',decimal=',',thousands=\".\",encoding='ANSI')\n",
    "df_dfreq_test8095 = df_dfreq_test8095.add_suffix('_dfreq')\n",
    "print(df_dfreq_test8095.shape)\n",
    "df_dfreq_test8095.head()\n",
    "\n",
    "#unindo dataframes\n",
    "df_test8095 = pd.concat([df_freq_test8095, df_dur_test8095, df_dfreq_test8095], axis=1)\n",
    "print(df_test8095.shape)\n",
    "df_test8095.head()\n",
    "\n",
    "#eliminado colunas duplicdas\n",
    "df_test8095.drop(['dia_dur','dia_dfreq','dia_semana_dur','dia_semana_dfreq',\n",
    "                  'fim_semana_dur','fim_semana_dfreq','outlier_freq','outlier_dur',\n",
    "                  'variacao_freq', 'variacao_dur'], axis=1, inplace=True)\n",
    "#renomeando colunas\n",
    "df_test8095.rename(columns = {'dia_freq':'dia', 'dia_semana_freq':'dia_semana', 'fim_semana_freq':'fim_semana',\n",
    "                              'outlier_dfreq':'outlier','variacao_dfreq':'variacao' }, inplace = True)\n",
    "print(df_test8095.shape)\n",
    "df_test8095.columns"
   ]
  },
  {
   "cell_type": "code",
   "execution_count": 7,
   "id": "0250d28e",
   "metadata": {},
   "outputs": [
    {
     "name": "stdout",
     "output_type": "stream",
     "text": [
      "(28, 15)\n",
      "(28, 15)\n",
      "(28, 15)\n",
      "(28, 45)\n",
      "(28, 35)\n"
     ]
    },
    {
     "data": {
      "text/plain": [
       "Index(['dia', 'dia_semana', 'fim_semana', 'BedToToilet_freq', 'Eating_freq',\n",
       "       'MealPreparation_freq', 'Relax_freq', 'Sleeping_freq',\n",
       "       'var_BedToToilet_freq', 'var_Eating_freq', 'var_MealPreparation_freq',\n",
       "       'var_Relax_freq', 'var_Sleeping_freq', 'BedToToilet_dur', 'Eating_dur',\n",
       "       'MealPreparation_dur', 'Relax_dur', 'Sleeping_dur',\n",
       "       'var_BedToToilet_dur', 'var_Eating_dur', 'var_MealPreparation_dur',\n",
       "       'var_Relax_dur', 'var_Sleeping_dur', 'BedToToilet_dfreq',\n",
       "       'Eating_dfreq', 'MealPreparation_dfreq', 'Relax_dfreq',\n",
       "       'Sleeping_dfreq', 'var_BedToToilet_dfreq', 'var_Eating_dfreq',\n",
       "       'var_MealPreparation_dfreq', 'var_Relax_dfreq', 'var_Sleeping_dfreq',\n",
       "       'outlier', 'variacao'],\n",
       "      dtype='object')"
      ]
     },
     "execution_count": 7,
     "metadata": {},
     "output_type": "execute_result"
    }
   ],
   "source": [
    "df_freq_test2095 = pd.read_csv('datasetaruba/pp4/aruba-freq-var60-75-test28.csv',delimiter=';',decimal=',',thousands=\".\",encoding='ANSI')\n",
    "df_freq_test2095 = df_freq_test2095.add_suffix('_freq')\n",
    "print(df_freq_test2095.shape)\n",
    "df_freq_test2095.head()\n",
    "\n",
    "df_dur_test2095 = pd.read_csv('datasetaruba/pp4/aruba-dur-var60-75-test28.csv',delimiter=';',decimal=',',thousands=\".\",encoding='ANSI')\n",
    "df_dur_test2095 = df_dur_test2095.add_suffix('_dur')\n",
    "print(df_dur_test2095.shape)\n",
    "df_dur_test2095.head()\n",
    "\n",
    "df_dfreq_test2095 = pd.read_csv('datasetaruba/pp4/aruba-dfreq-var60-75-test28.csv',delimiter=';',decimal=',',thousands=\".\",encoding='ANSI')\n",
    "df_dfreq_test2095 = df_dfreq_test2095.add_suffix('_dfreq')\n",
    "print(df_dfreq_test2095.shape)\n",
    "df_dfreq_test2095.head()\n",
    "\n",
    "#unindo dataframes\n",
    "df_test2095 = pd.concat([df_freq_test2095, df_dur_test2095, df_dfreq_test2095], axis=1)\n",
    "print(df_test2095.shape)\n",
    "df_test2095.head()\n",
    "\n",
    "#eliminado colunas duplicdas\n",
    "df_test2095.drop(['dia_dur','dia_dfreq','dia_semana_dur','dia_semana_dfreq',\n",
    "                  'fim_semana_dur','fim_semana_dfreq','outlier_freq','outlier_dur',\n",
    "                  'variacao_freq', 'variacao_dur'], axis=1, inplace=True)\n",
    "#renomeando colunas\n",
    "df_test2095.rename(columns = {'dia_freq':'dia', 'dia_semana_freq':'dia_semana', 'fim_semana_freq':'fim_semana',\n",
    "                              'outlier_dfreq':'outlier','variacao_dfreq':'variacao' }, inplace = True)\n",
    "print(df_test2095.shape)\n",
    "df_test2095.columns"
   ]
  },
  {
   "cell_type": "code",
   "execution_count": null,
   "id": "8ee3aaa9",
   "metadata": {},
   "outputs": [],
   "source": []
  },
  {
   "cell_type": "code",
   "execution_count": 8,
   "id": "16813287",
   "metadata": {},
   "outputs": [],
   "source": [
    "#DADOS DE TREINAMENTO UNIFICADO"
   ]
  },
  {
   "cell_type": "code",
   "execution_count": 9,
   "id": "fd0feaf1",
   "metadata": {},
   "outputs": [
    {
     "name": "stdout",
     "output_type": "stream",
     "text": [
      "(56, 8)\n",
      "(56, 8)\n",
      "(56, 8)\n",
      "(56, 18)\n"
     ]
    },
    {
     "data": {
      "text/plain": [
       "Index(['dia', 'dia_semana', 'fim_semana', 'BedToToilet_freq', 'Eating_freq',\n",
       "       'MealPreparation_freq', 'Relax_freq', 'Sleeping_freq',\n",
       "       'BedToToilet_dur', 'Eating_dur', 'MealPreparation_dur', 'Relax_dur',\n",
       "       'Sleeping_dur', 'BedToToilet_dfreq', 'Eating_dfreq',\n",
       "       'MealPreparation_dfreq', 'Relax_dfreq', 'Sleeping_dfreq'],\n",
       "      dtype='object')"
      ]
     },
     "execution_count": 9,
     "metadata": {},
     "output_type": "execute_result"
    }
   ],
   "source": [
    "## importando dataset TREINAMENTO\n",
    "df_dur_trein = pd.read_csv('datasetaruba/pp4/aruba-dur-trein56.csv',delimiter=';',decimal=',',thousands=\".\",encoding='ANSI')\n",
    "df_dur_trein = df_dur_trein.add_suffix('_dur')\n",
    "print(df_dur_trein.shape)\n",
    "df_dur_trein.head()\n",
    "\n",
    "df_freq_trein = pd.read_csv('datasetaruba/pp4/aruba-freq-trein56.csv',delimiter=';',decimal=',',thousands=\".\",encoding='ANSI')\n",
    "df_freq_trein = df_freq_trein.add_suffix('_freq')\n",
    "print(df_freq_trein.shape)\n",
    "df_freq_trein.head()\n",
    "\n",
    "df_dfreq_trein = pd.read_csv('datasetaruba/pp4/aruba-dfreq-trein56.csv',delimiter=';',decimal=',',thousands=\".\",encoding='ANSI')\n",
    "df_dfreq_trein = df_dfreq_trein.add_suffix('_dfreq')\n",
    "print(df_dfreq_trein.shape)\n",
    "df_dfreq_trein.head()\n",
    "\n",
    "#unindo dataframes\n",
    "df_trein = pd.concat([df_freq_trein, df_dur_trein, df_dfreq_trein], axis=1)\n",
    "\n",
    "#eliminado colunas duplicdas\n",
    "df_trein.drop(['dia_dur','dia_dfreq','dia_semana_dur','dia_semana_dfreq',\n",
    "                  'fim_semana_dur','fim_semana_dfreq'], axis=1, inplace=True)\n",
    "#renomeando colunas\n",
    "df_trein.rename(columns = {'dia_freq':'dia', 'dia_semana_freq':'dia_semana', 'fim_semana_freq':'fim_semana'}, inplace = True)\n",
    "\n",
    "print(df_trein.shape)\n",
    "df_trein.head()\n",
    "df_trein.columns"
   ]
  },
  {
   "cell_type": "code",
   "execution_count": null,
   "id": "e068e8cd",
   "metadata": {},
   "outputs": [],
   "source": []
  },
  {
   "cell_type": "code",
   "execution_count": 10,
   "id": "ebec6e4e",
   "metadata": {},
   "outputs": [],
   "source": [
    "#exportando os datasets\n",
    "df_test2035.to_csv(r'datasetaruba/pp4/aruba-unifatrib-test-2035.csv', sep=';', index=False, decimal=',')\n",
    "df_test4055.to_csv(r'datasetaruba/pp4/aruba-unifatrib-test-4055.csv', sep=';', index=False, decimal=',')\n",
    "df_test6075.to_csv(r'datasetaruba/pp4/aruba-unifatrib-test-6075.csv', sep=';', index=False, decimal=',')\n",
    "df_test8095.to_csv(r'datasetaruba/pp4/aruba-unifatrib-test-8095.csv', sep=';', index=False, decimal=',')\n",
    "df_test2095.to_csv(r'datasetaruba/pp4/aruba-unifatrib-test-2095.csv', sep=';', index=False, decimal=',')\n",
    "\n",
    "df_trein.to_csv(r'datasetaruba/pp4/aruba-unifatrib-trein.csv', sep=';', index=False, decimal=',')"
   ]
  },
  {
   "cell_type": "code",
   "execution_count": null,
   "id": "cc2186e0",
   "metadata": {},
   "outputs": [],
   "source": []
  },
  {
   "cell_type": "code",
   "execution_count": 11,
   "id": "aa418037",
   "metadata": {},
   "outputs": [
    {
     "name": "stdout",
     "output_type": "stream",
     "text": [
      "DONE\n"
     ]
    }
   ],
   "source": [
    "print('DONE')"
   ]
  }
 ],
 "metadata": {
  "kernelspec": {
   "display_name": "Python 3 (ipykernel)",
   "language": "python",
   "name": "python3"
  },
  "language_info": {
   "codemirror_mode": {
    "name": "ipython",
    "version": 3
   },
   "file_extension": ".py",
   "mimetype": "text/x-python",
   "name": "python",
   "nbconvert_exporter": "python",
   "pygments_lexer": "ipython3",
   "version": "3.9.13"
  }
 },
 "nbformat": 4,
 "nbformat_minor": 5
}
